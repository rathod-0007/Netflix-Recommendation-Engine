{
 "cells": [
  {
   "cell_type": "markdown",
   "id": "c62ba8aa-6213-458f-878c-5cf8e9640ccf",
   "metadata": {},
   "source": [
    "# Importing packages"
   ]
  },
  {
   "cell_type": "markdown",
   "id": "03cdd574-cc98-4e77-aac6-61487ec0aeb7",
   "metadata": {},
   "source": [
    "**Configuration packages**"
   ]
  },
  {
   "cell_type": "code",
   "execution_count": 144,
   "id": "a70a54c5-6f61-4a2f-ba8c-3ae5ed58e83f",
   "metadata": {},
   "outputs": [],
   "source": [
    "import warnings\n",
    "warnings.filterwarnings('ignore')"
   ]
  },
  {
   "cell_type": "markdown",
   "id": "6bb5766b-8869-4ffe-909c-8611e9b4e21f",
   "metadata": {},
   "source": [
    "**Classical packages**"
   ]
  },
  {
   "cell_type": "code",
   "execution_count": 146,
   "id": "0cb5bff2-7693-45fc-898d-c24cd2708709",
   "metadata": {},
   "outputs": [],
   "source": [
    "import numpy as np\n",
    "import pandas as pd\n",
    "import matplotlib.pyplot as plt\n",
    "import seaborn as sns"
   ]
  },
  {
   "cell_type": "markdown",
   "id": "3152269f-79d8-47f3-b4d9-d34cced3faf5",
   "metadata": {},
   "source": [
    "**Machine Learning packages**"
   ]
  },
  {
   "cell_type": "code",
   "execution_count": 148,
   "id": "4b598747-6595-4dc2-b5fd-c595cd35a48c",
   "metadata": {},
   "outputs": [],
   "source": [
    "#####"
   ]
  },
  {
   "cell_type": "markdown",
   "id": "3b29c1ea-d61f-4de6-8e71-0470b9112ea0",
   "metadata": {},
   "source": [
    "## Exploration Data Analysis"
   ]
  },
  {
   "cell_type": "markdown",
   "id": "6ac01e82-60d7-416f-86de-b77660a4eb63",
   "metadata": {},
   "source": [
    "**Loading the dataset**"
   ]
  },
  {
   "cell_type": "code",
   "execution_count": 151,
   "id": "92e2524c-c8b4-4dd2-81f4-e65ba5ef50c6",
   "metadata": {},
   "outputs": [],
   "source": [
    "netflix_data= pd.read_csv(r'combined_data.zip', header=None, names=['Cust_ID', 'Ratings'], usecols=[0,1])"
   ]
  },
  {
   "cell_type": "markdown",
   "id": "581dcce4-0e70-4db8-8886-1d018b81017a",
   "metadata": {},
   "source": [
    "**Reading the dadaset**"
   ]
  },
  {
   "cell_type": "code",
   "execution_count": 153,
   "id": "59298b40-936a-4f19-bb3a-4d850c0eae6f",
   "metadata": {},
   "outputs": [
    {
     "data": {
      "text/html": [
       "<div>\n",
       "<style scoped>\n",
       "    .dataframe tbody tr th:only-of-type {\n",
       "        vertical-align: middle;\n",
       "    }\n",
       "\n",
       "    .dataframe tbody tr th {\n",
       "        vertical-align: top;\n",
       "    }\n",
       "\n",
       "    .dataframe thead th {\n",
       "        text-align: right;\n",
       "    }\n",
       "</style>\n",
       "<table border=\"1\" class=\"dataframe\">\n",
       "  <thead>\n",
       "    <tr style=\"text-align: right;\">\n",
       "      <th></th>\n",
       "      <th>Cust_ID</th>\n",
       "      <th>Ratings</th>\n",
       "    </tr>\n",
       "  </thead>\n",
       "  <tbody>\n",
       "    <tr>\n",
       "      <th>0</th>\n",
       "      <td>1:</td>\n",
       "      <td>NaN</td>\n",
       "    </tr>\n",
       "    <tr>\n",
       "      <th>1</th>\n",
       "      <td>1488844</td>\n",
       "      <td>3.0</td>\n",
       "    </tr>\n",
       "    <tr>\n",
       "      <th>2</th>\n",
       "      <td>822109</td>\n",
       "      <td>5.0</td>\n",
       "    </tr>\n",
       "    <tr>\n",
       "      <th>3</th>\n",
       "      <td>885013</td>\n",
       "      <td>4.0</td>\n",
       "    </tr>\n",
       "    <tr>\n",
       "      <th>4</th>\n",
       "      <td>30878</td>\n",
       "      <td>4.0</td>\n",
       "    </tr>\n",
       "  </tbody>\n",
       "</table>\n",
       "</div>"
      ],
      "text/plain": [
       "   Cust_ID  Ratings\n",
       "0       1:      NaN\n",
       "1  1488844      3.0\n",
       "2   822109      5.0\n",
       "3   885013      4.0\n",
       "4    30878      4.0"
      ]
     },
     "execution_count": 153,
     "metadata": {},
     "output_type": "execute_result"
    }
   ],
   "source": [
    "#top 10 rows of the data\n",
    "netflix_data.head()"
   ]
  },
  {
   "cell_type": "code",
   "execution_count": 154,
   "id": "c4285487-3b88-47b7-b94e-858ab8fd8fb7",
   "metadata": {},
   "outputs": [
    {
     "data": {
      "text/html": [
       "<div>\n",
       "<style scoped>\n",
       "    .dataframe tbody tr th:only-of-type {\n",
       "        vertical-align: middle;\n",
       "    }\n",
       "\n",
       "    .dataframe tbody tr th {\n",
       "        vertical-align: top;\n",
       "    }\n",
       "\n",
       "    .dataframe thead th {\n",
       "        text-align: right;\n",
       "    }\n",
       "</style>\n",
       "<table border=\"1\" class=\"dataframe\">\n",
       "  <thead>\n",
       "    <tr style=\"text-align: right;\">\n",
       "      <th></th>\n",
       "      <th>Cust_ID</th>\n",
       "      <th>Ratings</th>\n",
       "    </tr>\n",
       "  </thead>\n",
       "  <tbody>\n",
       "    <tr>\n",
       "      <th>24058258</th>\n",
       "      <td>2591364</td>\n",
       "      <td>2.0</td>\n",
       "    </tr>\n",
       "    <tr>\n",
       "      <th>24058259</th>\n",
       "      <td>1791000</td>\n",
       "      <td>2.0</td>\n",
       "    </tr>\n",
       "    <tr>\n",
       "      <th>24058260</th>\n",
       "      <td>512536</td>\n",
       "      <td>5.0</td>\n",
       "    </tr>\n",
       "    <tr>\n",
       "      <th>24058261</th>\n",
       "      <td>988963</td>\n",
       "      <td>3.0</td>\n",
       "    </tr>\n",
       "    <tr>\n",
       "      <th>24058262</th>\n",
       "      <td>1704416</td>\n",
       "      <td>3.0</td>\n",
       "    </tr>\n",
       "  </tbody>\n",
       "</table>\n",
       "</div>"
      ],
      "text/plain": [
       "          Cust_ID  Ratings\n",
       "24058258  2591364      2.0\n",
       "24058259  1791000      2.0\n",
       "24058260   512536      5.0\n",
       "24058261   988963      3.0\n",
       "24058262  1704416      3.0"
      ]
     },
     "execution_count": 154,
     "metadata": {},
     "output_type": "execute_result"
    }
   ],
   "source": [
    "#last 10 rows of the data\n",
    "netflix_data.tail()"
   ]
  },
  {
   "cell_type": "markdown",
   "id": "909d38fe-d046-4f9e-82a6-add9b3977977",
   "metadata": {},
   "source": [
    "**Note:** *As we observed here are two columns in this dataset- customer ID and Ratings. Each section's group rows and each group has been named under `cust_ID` as `1:, 2:, 3:` are nothing but movie count, and corresponding to the group names, we have null values under `Ratings` columns. So null values are nothing but the total number of movies we have. So before removing null values, we need to seperate the count of movies into a new column at first.*"
   ]
  },
  {
   "cell_type": "markdown",
   "id": "96361ffd-7248-4f70-8034-40f57a78abdd",
   "metadata": {},
   "source": [
    "### Working on `customer ID` and `Ratings`"
   ]
  },
  {
   "cell_type": "markdown",
   "id": "e06bcc8e-de1f-437e-89b6-274f453275b7",
   "metadata": {},
   "source": [
    "**calculating the unique number of customers**"
   ]
  },
  {
   "cell_type": "code",
   "execution_count": 158,
   "id": "3d9330e7-6e73-4d64-862d-4c8fa67a350f",
   "metadata": {},
   "outputs": [
    {
     "data": {
      "text/plain": [
       "Cust_ID     object\n",
       "Ratings    float64\n",
       "dtype: object"
      ]
     },
     "execution_count": 158,
     "metadata": {},
     "output_type": "execute_result"
    }
   ],
   "source": [
    "#Checking the data type of each column\n",
    "netflix_data.dtypes"
   ]
  },
  {
   "cell_type": "code",
   "execution_count": 159,
   "id": "d323f4a5-b5d2-4091-82ef-a2591991093c",
   "metadata": {},
   "outputs": [
    {
     "name": "stdout",
     "output_type": "stream",
     "text": [
      "Cust_ID: 0, Ratings: 4499\n"
     ]
    }
   ],
   "source": [
    "#Checking missing values\n",
    "print(f'Cust_ID: {netflix_data.isna().sum()[0]}, Ratings: {netflix_data.isna().sum()[1]}')"
   ]
  },
  {
   "cell_type": "code",
   "execution_count": 160,
   "id": "99d57866-5e28-425d-bb2d-b69cf8039934",
   "metadata": {},
   "outputs": [
    {
     "name": "stdout",
     "output_type": "stream",
     "text": [
      "Rows: 24058263, Cols: 2\n"
     ]
    }
   ],
   "source": [
    "#Shape of the data\n",
    "print(f'Rows: {netflix_data.shape[0]}, Cols: {netflix_data.shape[1]}')"
   ]
  },
  {
   "cell_type": "code",
   "execution_count": 161,
   "id": "010c9704-2324-437a-a33f-2800632ec50d",
   "metadata": {},
   "outputs": [
    {
     "data": {
      "text/plain": [
       "475257"
      ]
     },
     "execution_count": 161,
     "metadata": {},
     "output_type": "execute_result"
    }
   ],
   "source": [
    "#Unique number of customers\n",
    "netflix_data['Cust_ID'].nunique()"
   ]
  },
  {
   "cell_type": "code",
   "execution_count": 162,
   "id": "72da9817-205a-4724-9fdf-7aeddc62521d",
   "metadata": {},
   "outputs": [
    {
     "name": "stdout",
     "output_type": "stream",
     "text": [
      "movie_count: 4499, cust_count: 475257 \n"
     ]
    }
   ],
   "source": [
    "#storing data of the count of total movies and the count of unique customers (including all the movie IDs)\n",
    "movie_count= netflix_data.isna().sum()[1]\n",
    "cust_count= netflix_data['Cust_ID'].nunique()\n",
    "print(f'movie_count: {movie_count}, cust_count: {cust_count} ')"
   ]
  },
  {
   "cell_type": "code",
   "execution_count": 163,
   "id": "93c5f44f-ef21-4a40-8f89-6487b9ba1e98",
   "metadata": {},
   "outputs": [
    {
     "name": "stdout",
     "output_type": "stream",
     "text": [
      "Unique number of customers (excluding all the movie IDs)-> cust_count - movie_count -> 470758\n"
     ]
    }
   ],
   "source": [
    "#unique number of customers\n",
    "print(f'Unique number of customers (excluding all the movie IDs)-> cust_count - movie_count -> {cust_count-movie_count}')"
   ]
  },
  {
   "cell_type": "markdown",
   "id": "7d7673a5-f394-4e62-9623-1c58ad76da71",
   "metadata": {},
   "source": [
    "**Note:** *As all the group names are of object type, the cust_id column is set as an object by default. So, our next step is to separate the count of movies from the cust_ID column by creating a new column and typecast the data type of the customer ID column from object to int.*"
   ]
  },
  {
   "cell_type": "markdown",
   "id": "5e23944b-861f-4f64-bc2b-3aa7629ac913",
   "metadata": {},
   "source": [
    "**Removing the count of movies from customer ID column into the new column**"
   ]
  },
  {
   "cell_type": "code",
   "execution_count": 166,
   "id": "068f76fe-e757-444e-b721-44912101e230",
   "metadata": {},
   "outputs": [],
   "source": [
    "#seperating the count of movies into a list\n",
    "count= None\n",
    "movie_ID=[]\n",
    "\n",
    "for cust_id in netflix_data['Cust_ID']:\n",
    "    if ':' in cust_id:\n",
    "        count= int(cust_id.replace(':',''))\n",
    "    movie_ID.append(count)"
   ]
  },
  {
   "cell_type": "code",
   "execution_count": 167,
   "id": "2a515998-1cab-4c29-af4f-3cbaa8be7721",
   "metadata": {},
   "outputs": [],
   "source": [
    "#Inserting the list of movie_IDs into a separate column\n",
    "netflix_data['movie_ID']= movie_ID"
   ]
  },
  {
   "cell_type": "code",
   "execution_count": 168,
   "id": "3f931655-9d28-4122-bfe0-11f90cc9541d",
   "metadata": {},
   "outputs": [
    {
     "data": {
      "text/html": [
       "<div>\n",
       "<style scoped>\n",
       "    .dataframe tbody tr th:only-of-type {\n",
       "        vertical-align: middle;\n",
       "    }\n",
       "\n",
       "    .dataframe tbody tr th {\n",
       "        vertical-align: top;\n",
       "    }\n",
       "\n",
       "    .dataframe thead th {\n",
       "        text-align: right;\n",
       "    }\n",
       "</style>\n",
       "<table border=\"1\" class=\"dataframe\">\n",
       "  <thead>\n",
       "    <tr style=\"text-align: right;\">\n",
       "      <th></th>\n",
       "      <th>Cust_ID</th>\n",
       "      <th>Ratings</th>\n",
       "      <th>movie_ID</th>\n",
       "    </tr>\n",
       "  </thead>\n",
       "  <tbody>\n",
       "    <tr>\n",
       "      <th>0</th>\n",
       "      <td>1:</td>\n",
       "      <td>NaN</td>\n",
       "      <td>1</td>\n",
       "    </tr>\n",
       "    <tr>\n",
       "      <th>1</th>\n",
       "      <td>1488844</td>\n",
       "      <td>3.0</td>\n",
       "      <td>1</td>\n",
       "    </tr>\n",
       "    <tr>\n",
       "      <th>2</th>\n",
       "      <td>822109</td>\n",
       "      <td>5.0</td>\n",
       "      <td>1</td>\n",
       "    </tr>\n",
       "    <tr>\n",
       "      <th>3</th>\n",
       "      <td>885013</td>\n",
       "      <td>4.0</td>\n",
       "      <td>1</td>\n",
       "    </tr>\n",
       "    <tr>\n",
       "      <th>4</th>\n",
       "      <td>30878</td>\n",
       "      <td>4.0</td>\n",
       "      <td>1</td>\n",
       "    </tr>\n",
       "  </tbody>\n",
       "</table>\n",
       "</div>"
      ],
      "text/plain": [
       "   Cust_ID  Ratings  movie_ID\n",
       "0       1:      NaN         1\n",
       "1  1488844      3.0         1\n",
       "2   822109      5.0         1\n",
       "3   885013      4.0         1\n",
       "4    30878      4.0         1"
      ]
     },
     "execution_count": 168,
     "metadata": {},
     "output_type": "execute_result"
    }
   ],
   "source": [
    "netflix_data.head()"
   ]
  },
  {
   "cell_type": "code",
   "execution_count": 169,
   "id": "7f94baee-9bc0-4bb8-832e-dd13cd899a23",
   "metadata": {},
   "outputs": [],
   "source": [
    "#Removing all the null values from the data\n",
    "netflix_data= netflix_data[netflix_data['Ratings'].notnull()]"
   ]
  },
  {
   "cell_type": "code",
   "execution_count": 170,
   "id": "e8bbd791-b04e-4baa-b421-51ff6b9be068",
   "metadata": {},
   "outputs": [
    {
     "data": {
      "text/html": [
       "<div>\n",
       "<style scoped>\n",
       "    .dataframe tbody tr th:only-of-type {\n",
       "        vertical-align: middle;\n",
       "    }\n",
       "\n",
       "    .dataframe tbody tr th {\n",
       "        vertical-align: top;\n",
       "    }\n",
       "\n",
       "    .dataframe thead th {\n",
       "        text-align: right;\n",
       "    }\n",
       "</style>\n",
       "<table border=\"1\" class=\"dataframe\">\n",
       "  <thead>\n",
       "    <tr style=\"text-align: right;\">\n",
       "      <th></th>\n",
       "      <th>Cust_ID</th>\n",
       "      <th>Ratings</th>\n",
       "      <th>movie_ID</th>\n",
       "    </tr>\n",
       "  </thead>\n",
       "  <tbody>\n",
       "    <tr>\n",
       "      <th>1</th>\n",
       "      <td>1488844</td>\n",
       "      <td>3.0</td>\n",
       "      <td>1</td>\n",
       "    </tr>\n",
       "    <tr>\n",
       "      <th>2</th>\n",
       "      <td>822109</td>\n",
       "      <td>5.0</td>\n",
       "      <td>1</td>\n",
       "    </tr>\n",
       "    <tr>\n",
       "      <th>3</th>\n",
       "      <td>885013</td>\n",
       "      <td>4.0</td>\n",
       "      <td>1</td>\n",
       "    </tr>\n",
       "    <tr>\n",
       "      <th>4</th>\n",
       "      <td>30878</td>\n",
       "      <td>4.0</td>\n",
       "      <td>1</td>\n",
       "    </tr>\n",
       "    <tr>\n",
       "      <th>5</th>\n",
       "      <td>823519</td>\n",
       "      <td>3.0</td>\n",
       "      <td>1</td>\n",
       "    </tr>\n",
       "  </tbody>\n",
       "</table>\n",
       "</div>"
      ],
      "text/plain": [
       "   Cust_ID  Ratings  movie_ID\n",
       "1  1488844      3.0         1\n",
       "2   822109      5.0         1\n",
       "3   885013      4.0         1\n",
       "4    30878      4.0         1\n",
       "5   823519      3.0         1"
      ]
     },
     "execution_count": 170,
     "metadata": {},
     "output_type": "execute_result"
    }
   ],
   "source": [
    "netflix_data.head()"
   ]
  },
  {
   "cell_type": "code",
   "execution_count": 171,
   "id": "6ccb995c-b9e9-45ce-a463-ab3ba2ee78ac",
   "metadata": {},
   "outputs": [],
   "source": [
    "#typecasting the data type of customer ID column from object to int type\n",
    "netflix_data['Cust_ID']= netflix_data['Cust_ID'].astype(int)"
   ]
  },
  {
   "cell_type": "code",
   "execution_count": 172,
   "id": "65f3de59-1813-4419-862c-fc0755f0736e",
   "metadata": {},
   "outputs": [
    {
     "data": {
      "text/plain": [
       "Cust_ID       int32\n",
       "Ratings     float64\n",
       "movie_ID      int64\n",
       "dtype: object"
      ]
     },
     "execution_count": 172,
     "metadata": {},
     "output_type": "execute_result"
    }
   ],
   "source": [
    "netflix_data.dtypes"
   ]
  },
  {
   "cell_type": "code",
   "execution_count": 173,
   "id": "0775cb3a-6175-4392-be0a-102d181ec0e7",
   "metadata": {},
   "outputs": [
    {
     "data": {
      "text/plain": [
       "(24053764, 3)"
      ]
     },
     "execution_count": 173,
     "metadata": {},
     "output_type": "execute_result"
    }
   ],
   "source": [
    "netflix_data.shape"
   ]
  },
  {
   "cell_type": "markdown",
   "id": "82a0a149-6d87-43be-a9c3-b104eb6e6766",
   "metadata": {},
   "source": [
    "### Grouping the count of `Ratings` for each movie"
   ]
  },
  {
   "cell_type": "code",
   "execution_count": 175,
   "id": "6bf6a2d2-36da-4f4c-8d76-30efacbcf1a1",
   "metadata": {},
   "outputs": [],
   "source": [
    "#Creating a new DataFrame by grouping the movieID with the count of ratings\n",
    "netflix_movie_summary= netflix_data.groupby(by='movie_ID')['Ratings'].agg(['count']).reset_index()"
   ]
  },
  {
   "cell_type": "code",
   "execution_count": 176,
   "id": "c4e2e6ab-38a7-463d-b18b-66f19d7072d2",
   "metadata": {},
   "outputs": [
    {
     "data": {
      "text/html": [
       "<div>\n",
       "<style scoped>\n",
       "    .dataframe tbody tr th:only-of-type {\n",
       "        vertical-align: middle;\n",
       "    }\n",
       "\n",
       "    .dataframe tbody tr th {\n",
       "        vertical-align: top;\n",
       "    }\n",
       "\n",
       "    .dataframe thead th {\n",
       "        text-align: right;\n",
       "    }\n",
       "</style>\n",
       "<table border=\"1\" class=\"dataframe\">\n",
       "  <thead>\n",
       "    <tr style=\"text-align: right;\">\n",
       "      <th></th>\n",
       "      <th>movie_ID</th>\n",
       "      <th>count</th>\n",
       "    </tr>\n",
       "  </thead>\n",
       "  <tbody>\n",
       "    <tr>\n",
       "      <th>0</th>\n",
       "      <td>1</td>\n",
       "      <td>547</td>\n",
       "    </tr>\n",
       "    <tr>\n",
       "      <th>1</th>\n",
       "      <td>2</td>\n",
       "      <td>145</td>\n",
       "    </tr>\n",
       "    <tr>\n",
       "      <th>2</th>\n",
       "      <td>3</td>\n",
       "      <td>2012</td>\n",
       "    </tr>\n",
       "    <tr>\n",
       "      <th>3</th>\n",
       "      <td>4</td>\n",
       "      <td>142</td>\n",
       "    </tr>\n",
       "    <tr>\n",
       "      <th>4</th>\n",
       "      <td>5</td>\n",
       "      <td>1140</td>\n",
       "    </tr>\n",
       "  </tbody>\n",
       "</table>\n",
       "</div>"
      ],
      "text/plain": [
       "   movie_ID  count\n",
       "0         1    547\n",
       "1         2    145\n",
       "2         3   2012\n",
       "3         4    142\n",
       "4         5   1140"
      ]
     },
     "execution_count": 176,
     "metadata": {},
     "output_type": "execute_result"
    }
   ],
   "source": [
    "netflix_movie_summary.head()"
   ]
  },
  {
   "cell_type": "markdown",
   "id": "92479459-c28c-40b0-8e66-f794700e7e77",
   "metadata": {},
   "source": [
    "### Count of top rated movies"
   ]
  },
  {
   "cell_type": "markdown",
   "id": "f9c9ae0d-0bec-4979-b594-82b80176761d",
   "metadata": {},
   "source": [
    "**Creating a benchmark value for the recommendation**"
   ]
  },
  {
   "cell_type": "code",
   "execution_count": 179,
   "id": "cc7fff65-92bc-4105-8463-3e26a04bfe8e",
   "metadata": {},
   "outputs": [
    {
     "data": {
      "text/plain": [
       "908.0"
      ]
     },
     "execution_count": 179,
     "metadata": {},
     "output_type": "execute_result"
    }
   ],
   "source": [
    "benchmark= np.round(netflix_movie_summary['count'].quantile(0.6), 0)\n",
    "benchmark"
   ]
  },
  {
   "cell_type": "markdown",
   "id": "c76f37ba-e4b4-4ac9-884b-1f04a24fce2c",
   "metadata": {},
   "source": [
    "**Note :-** *`908` is the 60th percentile of all the values of count column.*"
   ]
  },
  {
   "cell_type": "code",
   "execution_count": 181,
   "id": "fa16b241-61b2-4e7d-872a-1b1cce80d2b5",
   "metadata": {},
   "outputs": [],
   "source": [
    "#Keeping records of drop movie list\n",
    "drop_movie_list= netflix_movie_summary[netflix_movie_summary['count'] < benchmark]"
   ]
  },
  {
   "cell_type": "code",
   "execution_count": 182,
   "id": "ac49cc65-5ba7-4f6e-8e2e-b41b5236ffca",
   "metadata": {},
   "outputs": [
    {
     "data": {
      "text/html": [
       "<div>\n",
       "<style scoped>\n",
       "    .dataframe tbody tr th:only-of-type {\n",
       "        vertical-align: middle;\n",
       "    }\n",
       "\n",
       "    .dataframe tbody tr th {\n",
       "        vertical-align: top;\n",
       "    }\n",
       "\n",
       "    .dataframe thead th {\n",
       "        text-align: right;\n",
       "    }\n",
       "</style>\n",
       "<table border=\"1\" class=\"dataframe\">\n",
       "  <thead>\n",
       "    <tr style=\"text-align: right;\">\n",
       "      <th></th>\n",
       "      <th>movie_ID</th>\n",
       "      <th>count</th>\n",
       "    </tr>\n",
       "  </thead>\n",
       "  <tbody>\n",
       "    <tr>\n",
       "      <th>0</th>\n",
       "      <td>1</td>\n",
       "      <td>547</td>\n",
       "    </tr>\n",
       "    <tr>\n",
       "      <th>1</th>\n",
       "      <td>2</td>\n",
       "      <td>145</td>\n",
       "    </tr>\n",
       "    <tr>\n",
       "      <th>3</th>\n",
       "      <td>4</td>\n",
       "      <td>142</td>\n",
       "    </tr>\n",
       "    <tr>\n",
       "      <th>6</th>\n",
       "      <td>7</td>\n",
       "      <td>93</td>\n",
       "    </tr>\n",
       "    <tr>\n",
       "      <th>8</th>\n",
       "      <td>9</td>\n",
       "      <td>95</td>\n",
       "    </tr>\n",
       "    <tr>\n",
       "      <th>...</th>\n",
       "      <td>...</td>\n",
       "      <td>...</td>\n",
       "    </tr>\n",
       "    <tr>\n",
       "      <th>4493</th>\n",
       "      <td>4494</td>\n",
       "      <td>130</td>\n",
       "    </tr>\n",
       "    <tr>\n",
       "      <th>4494</th>\n",
       "      <td>4495</td>\n",
       "      <td>614</td>\n",
       "    </tr>\n",
       "    <tr>\n",
       "      <th>4496</th>\n",
       "      <td>4497</td>\n",
       "      <td>714</td>\n",
       "    </tr>\n",
       "    <tr>\n",
       "      <th>4497</th>\n",
       "      <td>4498</td>\n",
       "      <td>269</td>\n",
       "    </tr>\n",
       "    <tr>\n",
       "      <th>4498</th>\n",
       "      <td>4499</td>\n",
       "      <td>428</td>\n",
       "    </tr>\n",
       "  </tbody>\n",
       "</table>\n",
       "<p>2699 rows × 2 columns</p>\n",
       "</div>"
      ],
      "text/plain": [
       "      movie_ID  count\n",
       "0            1    547\n",
       "1            2    145\n",
       "3            4    142\n",
       "6            7     93\n",
       "8            9     95\n",
       "...        ...    ...\n",
       "4493      4494    130\n",
       "4494      4495    614\n",
       "4496      4497    714\n",
       "4497      4498    269\n",
       "4498      4499    428\n",
       "\n",
       "[2699 rows x 2 columns]"
      ]
     },
     "execution_count": 182,
     "metadata": {},
     "output_type": "execute_result"
    }
   ],
   "source": [
    "drop_movie_list"
   ]
  },
  {
   "cell_type": "code",
   "execution_count": 183,
   "id": "04edc68b-d66a-4ba7-bd3a-28e7ef17eb13",
   "metadata": {},
   "outputs": [
    {
     "data": {
      "text/plain": [
       "2699"
      ]
     },
     "execution_count": 183,
     "metadata": {},
     "output_type": "execute_result"
    }
   ],
   "source": [
    "len(drop_movie_list)"
   ]
  },
  {
   "cell_type": "code",
   "execution_count": 184,
   "id": "217631f3-f909-4569-b02b-826b93cb4757",
   "metadata": {},
   "outputs": [
    {
     "data": {
      "text/plain": [
       "4499"
      ]
     },
     "execution_count": 184,
     "metadata": {},
     "output_type": "execute_result"
    }
   ],
   "source": [
    "len(netflix_movie_summary['movie_ID'])"
   ]
  },
  {
   "cell_type": "code",
   "execution_count": 185,
   "id": "aea09c8a-6f09-4050-8ec2-491d5aed9881",
   "metadata": {},
   "outputs": [
    {
     "data": {
      "text/plain": [
       "1800"
      ]
     },
     "execution_count": 185,
     "metadata": {},
     "output_type": "execute_result"
    }
   ],
   "source": [
    "4499-2699"
   ]
  },
  {
   "cell_type": "markdown",
   "id": "7173a0e8-6ac4-47e1-9c6c-90f427fc8ef6",
   "metadata": {},
   "source": [
    "**Count of top rated reviews of all the movies is `1800`.**"
   ]
  },
  {
   "cell_type": "markdown",
   "id": "67d5287a-9ee4-45a2-af58-fdc4fb37f738",
   "metadata": {},
   "source": [
    "**Note :-** *`2699` rows have reviews below the benchmark. So we deducted that with the total movie count and hence we have got total reviews above the benchmark.*"
   ]
  },
  {
   "cell_type": "markdown",
   "id": "a71d4c5a-9a5a-4f1e-87a9-4e06b3b792b3",
   "metadata": {},
   "source": [
    "### Grouping the count of `Ratings` for each customer"
   ]
  },
  {
   "cell_type": "code",
   "execution_count": 189,
   "id": "1cf3d32f-00e6-4c93-bca0-a781f307a418",
   "metadata": {},
   "outputs": [],
   "source": [
    "#Creating a new DataFrame by grouping the movieID with the count of ratings\n",
    "netflix_cust_summary= netflix_data.groupby(by='Cust_ID')['Ratings'].agg(['count']).reset_index()"
   ]
  },
  {
   "cell_type": "code",
   "execution_count": 190,
   "id": "0e4b147b-e953-43da-b296-4bb8f356070e",
   "metadata": {},
   "outputs": [
    {
     "data": {
      "text/html": [
       "<div>\n",
       "<style scoped>\n",
       "    .dataframe tbody tr th:only-of-type {\n",
       "        vertical-align: middle;\n",
       "    }\n",
       "\n",
       "    .dataframe tbody tr th {\n",
       "        vertical-align: top;\n",
       "    }\n",
       "\n",
       "    .dataframe thead th {\n",
       "        text-align: right;\n",
       "    }\n",
       "</style>\n",
       "<table border=\"1\" class=\"dataframe\">\n",
       "  <thead>\n",
       "    <tr style=\"text-align: right;\">\n",
       "      <th></th>\n",
       "      <th>Cust_ID</th>\n",
       "      <th>count</th>\n",
       "    </tr>\n",
       "  </thead>\n",
       "  <tbody>\n",
       "    <tr>\n",
       "      <th>0</th>\n",
       "      <td>6</td>\n",
       "      <td>153</td>\n",
       "    </tr>\n",
       "    <tr>\n",
       "      <th>1</th>\n",
       "      <td>7</td>\n",
       "      <td>195</td>\n",
       "    </tr>\n",
       "    <tr>\n",
       "      <th>2</th>\n",
       "      <td>8</td>\n",
       "      <td>21</td>\n",
       "    </tr>\n",
       "    <tr>\n",
       "      <th>3</th>\n",
       "      <td>10</td>\n",
       "      <td>49</td>\n",
       "    </tr>\n",
       "    <tr>\n",
       "      <th>4</th>\n",
       "      <td>25</td>\n",
       "      <td>4</td>\n",
       "    </tr>\n",
       "  </tbody>\n",
       "</table>\n",
       "</div>"
      ],
      "text/plain": [
       "   Cust_ID  count\n",
       "0        6    153\n",
       "1        7    195\n",
       "2        8     21\n",
       "3       10     49\n",
       "4       25      4"
      ]
     },
     "execution_count": 190,
     "metadata": {},
     "output_type": "execute_result"
    }
   ],
   "source": [
    "netflix_cust_summary.head()"
   ]
  },
  {
   "cell_type": "markdown",
   "id": "11e7ad13-a111-4adf-a131-b5f2a301af99",
   "metadata": {},
   "source": [
    "### Count of maximum review of customers"
   ]
  },
  {
   "cell_type": "markdown",
   "id": "e3e6de4c-53e8-4d7c-8e6c-0d29f4d67593",
   "metadata": {},
   "source": [
    "**Creating a benchmark value for the maximum reviews**"
   ]
  },
  {
   "cell_type": "code",
   "execution_count": 193,
   "id": "abd8194a-78e3-4507-b215-9ac2844e4e1c",
   "metadata": {},
   "outputs": [
    {
     "data": {
      "text/plain": [
       "36.0"
      ]
     },
     "execution_count": 193,
     "metadata": {},
     "output_type": "execute_result"
    }
   ],
   "source": [
    "benchmark= np.round(netflix_cust_summary['count'].quantile(0.6), 0)\n",
    "benchmark"
   ]
  },
  {
   "cell_type": "markdown",
   "id": "f679b406-c008-446f-8a38-186a32310f5e",
   "metadata": {},
   "source": [
    "**Note :-** *`908` is the 60th percentile of all the values of count column.*"
   ]
  },
  {
   "cell_type": "code",
   "execution_count": 195,
   "id": "42fb7338-2004-45ff-8a15-98ce30e9ff31",
   "metadata": {},
   "outputs": [],
   "source": [
    "#Keeping records of drop movie list\n",
    "drop_cust_list= netflix_cust_summary[netflix_cust_summary['count'] < benchmark]"
   ]
  },
  {
   "cell_type": "code",
   "execution_count": 196,
   "id": "4259efa4-be32-481c-8ecc-cf137ae729bf",
   "metadata": {},
   "outputs": [
    {
     "data": {
      "text/html": [
       "<div>\n",
       "<style scoped>\n",
       "    .dataframe tbody tr th:only-of-type {\n",
       "        vertical-align: middle;\n",
       "    }\n",
       "\n",
       "    .dataframe tbody tr th {\n",
       "        vertical-align: top;\n",
       "    }\n",
       "\n",
       "    .dataframe thead th {\n",
       "        text-align: right;\n",
       "    }\n",
       "</style>\n",
       "<table border=\"1\" class=\"dataframe\">\n",
       "  <thead>\n",
       "    <tr style=\"text-align: right;\">\n",
       "      <th></th>\n",
       "      <th>Cust_ID</th>\n",
       "      <th>count</th>\n",
       "    </tr>\n",
       "  </thead>\n",
       "  <tbody>\n",
       "    <tr>\n",
       "      <th>2</th>\n",
       "      <td>8</td>\n",
       "      <td>21</td>\n",
       "    </tr>\n",
       "    <tr>\n",
       "      <th>4</th>\n",
       "      <td>25</td>\n",
       "      <td>4</td>\n",
       "    </tr>\n",
       "    <tr>\n",
       "      <th>5</th>\n",
       "      <td>33</td>\n",
       "      <td>11</td>\n",
       "    </tr>\n",
       "    <tr>\n",
       "      <th>9</th>\n",
       "      <td>83</td>\n",
       "      <td>10</td>\n",
       "    </tr>\n",
       "    <tr>\n",
       "      <th>11</th>\n",
       "      <td>94</td>\n",
       "      <td>27</td>\n",
       "    </tr>\n",
       "    <tr>\n",
       "      <th>...</th>\n",
       "      <td>...</td>\n",
       "      <td>...</td>\n",
       "    </tr>\n",
       "    <tr>\n",
       "      <th>470750</th>\n",
       "      <td>2649384</td>\n",
       "      <td>7</td>\n",
       "    </tr>\n",
       "    <tr>\n",
       "      <th>470752</th>\n",
       "      <td>2649401</td>\n",
       "      <td>30</td>\n",
       "    </tr>\n",
       "    <tr>\n",
       "      <th>470753</th>\n",
       "      <td>2649404</td>\n",
       "      <td>12</td>\n",
       "    </tr>\n",
       "    <tr>\n",
       "      <th>470754</th>\n",
       "      <td>2649409</td>\n",
       "      <td>10</td>\n",
       "    </tr>\n",
       "    <tr>\n",
       "      <th>470755</th>\n",
       "      <td>2649421</td>\n",
       "      <td>3</td>\n",
       "    </tr>\n",
       "  </tbody>\n",
       "</table>\n",
       "<p>282042 rows × 2 columns</p>\n",
       "</div>"
      ],
      "text/plain": [
       "        Cust_ID  count\n",
       "2             8     21\n",
       "4            25      4\n",
       "5            33     11\n",
       "9            83     10\n",
       "11           94     27\n",
       "...         ...    ...\n",
       "470750  2649384      7\n",
       "470752  2649401     30\n",
       "470753  2649404     12\n",
       "470754  2649409     10\n",
       "470755  2649421      3\n",
       "\n",
       "[282042 rows x 2 columns]"
      ]
     },
     "execution_count": 196,
     "metadata": {},
     "output_type": "execute_result"
    }
   ],
   "source": [
    "drop_cust_list"
   ]
  },
  {
   "cell_type": "code",
   "execution_count": 197,
   "id": "b6f2aa21-111a-47db-8760-dafec2c5adff",
   "metadata": {},
   "outputs": [
    {
     "data": {
      "text/plain": [
       "282042"
      ]
     },
     "execution_count": 197,
     "metadata": {},
     "output_type": "execute_result"
    }
   ],
   "source": [
    "len(drop_cust_list)"
   ]
  },
  {
   "cell_type": "code",
   "execution_count": 198,
   "id": "699f089c-3dbc-4b10-af98-2bcdae62a95d",
   "metadata": {},
   "outputs": [
    {
     "data": {
      "text/plain": [
       "24053764"
      ]
     },
     "execution_count": 198,
     "metadata": {},
     "output_type": "execute_result"
    }
   ],
   "source": [
    "netflix_data.shape[0]"
   ]
  },
  {
   "cell_type": "code",
   "execution_count": 199,
   "id": "65f0670f-d518-46e3-a3f4-e8bb044c84a0",
   "metadata": {},
   "outputs": [
    {
     "data": {
      "text/plain": [
       "23771722"
      ]
     },
     "execution_count": 199,
     "metadata": {},
     "output_type": "execute_result"
    }
   ],
   "source": [
    "24053764-282042"
   ]
  },
  {
   "cell_type": "markdown",
   "id": "2b685018-deea-4883-bc2e-5b473fa46d4f",
   "metadata": {},
   "source": [
    "**Count of maximum review of customers is `2,37,71,722`.**"
   ]
  },
  {
   "cell_type": "markdown",
   "id": "8459ebfc-6a92-4339-af2b-a4e34e24584b",
   "metadata": {},
   "source": [
    "**Note :-** *`2,82,042` rows have a review of customers below the benchmark. So we deducted that with the total rows of customers and hence we have got the count of maximum review of customers.*"
   ]
  },
  {
   "cell_type": "markdown",
   "id": "930f283d-7e5c-45e2-9d59-476091769d53",
   "metadata": {},
   "source": [
    "### Preparing the `final dataset` for `recommendation`."
   ]
  },
  {
   "cell_type": "code",
   "execution_count": 203,
   "id": "2790ac65-132f-4dc8-bd65-e8de0b3ec51e",
   "metadata": {},
   "outputs": [
    {
     "data": {
      "text/html": [
       "<div>\n",
       "<style scoped>\n",
       "    .dataframe tbody tr th:only-of-type {\n",
       "        vertical-align: middle;\n",
       "    }\n",
       "\n",
       "    .dataframe tbody tr th {\n",
       "        vertical-align: top;\n",
       "    }\n",
       "\n",
       "    .dataframe thead th {\n",
       "        text-align: right;\n",
       "    }\n",
       "</style>\n",
       "<table border=\"1\" class=\"dataframe\">\n",
       "  <thead>\n",
       "    <tr style=\"text-align: right;\">\n",
       "      <th></th>\n",
       "      <th>movie_ID</th>\n",
       "      <th>count</th>\n",
       "    </tr>\n",
       "  </thead>\n",
       "  <tbody>\n",
       "    <tr>\n",
       "      <th>0</th>\n",
       "      <td>1</td>\n",
       "      <td>547</td>\n",
       "    </tr>\n",
       "    <tr>\n",
       "      <th>1</th>\n",
       "      <td>2</td>\n",
       "      <td>145</td>\n",
       "    </tr>\n",
       "    <tr>\n",
       "      <th>3</th>\n",
       "      <td>4</td>\n",
       "      <td>142</td>\n",
       "    </tr>\n",
       "    <tr>\n",
       "      <th>6</th>\n",
       "      <td>7</td>\n",
       "      <td>93</td>\n",
       "    </tr>\n",
       "    <tr>\n",
       "      <th>8</th>\n",
       "      <td>9</td>\n",
       "      <td>95</td>\n",
       "    </tr>\n",
       "    <tr>\n",
       "      <th>...</th>\n",
       "      <td>...</td>\n",
       "      <td>...</td>\n",
       "    </tr>\n",
       "    <tr>\n",
       "      <th>4493</th>\n",
       "      <td>4494</td>\n",
       "      <td>130</td>\n",
       "    </tr>\n",
       "    <tr>\n",
       "      <th>4494</th>\n",
       "      <td>4495</td>\n",
       "      <td>614</td>\n",
       "    </tr>\n",
       "    <tr>\n",
       "      <th>4496</th>\n",
       "      <td>4497</td>\n",
       "      <td>714</td>\n",
       "    </tr>\n",
       "    <tr>\n",
       "      <th>4497</th>\n",
       "      <td>4498</td>\n",
       "      <td>269</td>\n",
       "    </tr>\n",
       "    <tr>\n",
       "      <th>4498</th>\n",
       "      <td>4499</td>\n",
       "      <td>428</td>\n",
       "    </tr>\n",
       "  </tbody>\n",
       "</table>\n",
       "<p>2699 rows × 2 columns</p>\n",
       "</div>"
      ],
      "text/plain": [
       "      movie_ID  count\n",
       "0            1    547\n",
       "1            2    145\n",
       "3            4    142\n",
       "6            7     93\n",
       "8            9     95\n",
       "...        ...    ...\n",
       "4493      4494    130\n",
       "4494      4495    614\n",
       "4496      4497    714\n",
       "4497      4498    269\n",
       "4498      4499    428\n",
       "\n",
       "[2699 rows x 2 columns]"
      ]
     },
     "execution_count": 203,
     "metadata": {},
     "output_type": "execute_result"
    }
   ],
   "source": [
    "drop_movie_list"
   ]
  },
  {
   "cell_type": "code",
   "execution_count": 204,
   "id": "cd3a7ba8-e0ac-48c7-a71f-f763d25b1da2",
   "metadata": {},
   "outputs": [
    {
     "data": {
      "text/html": [
       "<div>\n",
       "<style scoped>\n",
       "    .dataframe tbody tr th:only-of-type {\n",
       "        vertical-align: middle;\n",
       "    }\n",
       "\n",
       "    .dataframe tbody tr th {\n",
       "        vertical-align: top;\n",
       "    }\n",
       "\n",
       "    .dataframe thead th {\n",
       "        text-align: right;\n",
       "    }\n",
       "</style>\n",
       "<table border=\"1\" class=\"dataframe\">\n",
       "  <thead>\n",
       "    <tr style=\"text-align: right;\">\n",
       "      <th></th>\n",
       "      <th>Cust_ID</th>\n",
       "      <th>count</th>\n",
       "    </tr>\n",
       "  </thead>\n",
       "  <tbody>\n",
       "    <tr>\n",
       "      <th>2</th>\n",
       "      <td>8</td>\n",
       "      <td>21</td>\n",
       "    </tr>\n",
       "    <tr>\n",
       "      <th>4</th>\n",
       "      <td>25</td>\n",
       "      <td>4</td>\n",
       "    </tr>\n",
       "    <tr>\n",
       "      <th>5</th>\n",
       "      <td>33</td>\n",
       "      <td>11</td>\n",
       "    </tr>\n",
       "    <tr>\n",
       "      <th>9</th>\n",
       "      <td>83</td>\n",
       "      <td>10</td>\n",
       "    </tr>\n",
       "    <tr>\n",
       "      <th>11</th>\n",
       "      <td>94</td>\n",
       "      <td>27</td>\n",
       "    </tr>\n",
       "    <tr>\n",
       "      <th>...</th>\n",
       "      <td>...</td>\n",
       "      <td>...</td>\n",
       "    </tr>\n",
       "    <tr>\n",
       "      <th>470750</th>\n",
       "      <td>2649384</td>\n",
       "      <td>7</td>\n",
       "    </tr>\n",
       "    <tr>\n",
       "      <th>470752</th>\n",
       "      <td>2649401</td>\n",
       "      <td>30</td>\n",
       "    </tr>\n",
       "    <tr>\n",
       "      <th>470753</th>\n",
       "      <td>2649404</td>\n",
       "      <td>12</td>\n",
       "    </tr>\n",
       "    <tr>\n",
       "      <th>470754</th>\n",
       "      <td>2649409</td>\n",
       "      <td>10</td>\n",
       "    </tr>\n",
       "    <tr>\n",
       "      <th>470755</th>\n",
       "      <td>2649421</td>\n",
       "      <td>3</td>\n",
       "    </tr>\n",
       "  </tbody>\n",
       "</table>\n",
       "<p>282042 rows × 2 columns</p>\n",
       "</div>"
      ],
      "text/plain": [
       "        Cust_ID  count\n",
       "2             8     21\n",
       "4            25      4\n",
       "5            33     11\n",
       "9            83     10\n",
       "11           94     27\n",
       "...         ...    ...\n",
       "470750  2649384      7\n",
       "470752  2649401     30\n",
       "470753  2649404     12\n",
       "470754  2649409     10\n",
       "470755  2649421      3\n",
       "\n",
       "[282042 rows x 2 columns]"
      ]
     },
     "execution_count": 204,
     "metadata": {},
     "output_type": "execute_result"
    }
   ],
   "source": [
    "drop_cust_list"
   ]
  },
  {
   "cell_type": "code",
   "execution_count": 205,
   "id": "00081ecf-8189-4436-b8e1-fc86c821800e",
   "metadata": {},
   "outputs": [
    {
     "data": {
      "text/plain": [
       "movie_ID    int64\n",
       "count       int64\n",
       "dtype: object"
      ]
     },
     "execution_count": 205,
     "metadata": {},
     "output_type": "execute_result"
    }
   ],
   "source": [
    "drop_movie_list.dtypes"
   ]
  },
  {
   "cell_type": "code",
   "execution_count": 206,
   "id": "a0d88a60-1df1-4573-a503-72671ab8e1fe",
   "metadata": {},
   "outputs": [
    {
     "data": {
      "text/plain": [
       "Cust_ID    int32\n",
       "count      int64\n",
       "dtype: object"
      ]
     },
     "execution_count": 206,
     "metadata": {},
     "output_type": "execute_result"
    }
   ],
   "source": [
    "drop_cust_list.dtypes"
   ]
  },
  {
   "cell_type": "code",
   "execution_count": 207,
   "id": "9fc6a168-5bdd-479e-8d74-163b3fe83fb8",
   "metadata": {},
   "outputs": [
    {
     "data": {
      "text/plain": [
       "Cust_ID       int32\n",
       "Ratings     float64\n",
       "movie_ID      int64\n",
       "dtype: object"
      ]
     },
     "execution_count": 207,
     "metadata": {},
     "output_type": "execute_result"
    }
   ],
   "source": [
    "netflix_data.dtypes"
   ]
  },
  {
   "cell_type": "code",
   "execution_count": 208,
   "id": "f1b292e4-8e07-4ca4-ae96-1e305e211d5d",
   "metadata": {},
   "outputs": [],
   "source": [
    "#Fetching out those rows that are above the benchmark\n",
    "netflix_data= netflix_data[~netflix_data['movie_ID'].isin(drop_movie_list)]\n",
    "netflix_data= netflix_data[~netflix_data['Cust_ID'].isin(drop_cust_list)]"
   ]
  },
  {
   "cell_type": "code",
   "execution_count": 209,
   "id": "aba1a319-9c1b-4e93-9ed2-c3cb2452ef3e",
   "metadata": {},
   "outputs": [
    {
     "data": {
      "text/html": [
       "<div>\n",
       "<style scoped>\n",
       "    .dataframe tbody tr th:only-of-type {\n",
       "        vertical-align: middle;\n",
       "    }\n",
       "\n",
       "    .dataframe tbody tr th {\n",
       "        vertical-align: top;\n",
       "    }\n",
       "\n",
       "    .dataframe thead th {\n",
       "        text-align: right;\n",
       "    }\n",
       "</style>\n",
       "<table border=\"1\" class=\"dataframe\">\n",
       "  <thead>\n",
       "    <tr style=\"text-align: right;\">\n",
       "      <th></th>\n",
       "      <th>Cust_ID</th>\n",
       "      <th>Ratings</th>\n",
       "      <th>movie_ID</th>\n",
       "    </tr>\n",
       "  </thead>\n",
       "  <tbody>\n",
       "    <tr>\n",
       "      <th>1</th>\n",
       "      <td>1488844</td>\n",
       "      <td>3.0</td>\n",
       "      <td>1</td>\n",
       "    </tr>\n",
       "    <tr>\n",
       "      <th>2</th>\n",
       "      <td>822109</td>\n",
       "      <td>5.0</td>\n",
       "      <td>1</td>\n",
       "    </tr>\n",
       "    <tr>\n",
       "      <th>3</th>\n",
       "      <td>885013</td>\n",
       "      <td>4.0</td>\n",
       "      <td>1</td>\n",
       "    </tr>\n",
       "    <tr>\n",
       "      <th>4</th>\n",
       "      <td>30878</td>\n",
       "      <td>4.0</td>\n",
       "      <td>1</td>\n",
       "    </tr>\n",
       "    <tr>\n",
       "      <th>5</th>\n",
       "      <td>823519</td>\n",
       "      <td>3.0</td>\n",
       "      <td>1</td>\n",
       "    </tr>\n",
       "    <tr>\n",
       "      <th>...</th>\n",
       "      <td>...</td>\n",
       "      <td>...</td>\n",
       "      <td>...</td>\n",
       "    </tr>\n",
       "    <tr>\n",
       "      <th>24058258</th>\n",
       "      <td>2591364</td>\n",
       "      <td>2.0</td>\n",
       "      <td>4499</td>\n",
       "    </tr>\n",
       "    <tr>\n",
       "      <th>24058259</th>\n",
       "      <td>1791000</td>\n",
       "      <td>2.0</td>\n",
       "      <td>4499</td>\n",
       "    </tr>\n",
       "    <tr>\n",
       "      <th>24058260</th>\n",
       "      <td>512536</td>\n",
       "      <td>5.0</td>\n",
       "      <td>4499</td>\n",
       "    </tr>\n",
       "    <tr>\n",
       "      <th>24058261</th>\n",
       "      <td>988963</td>\n",
       "      <td>3.0</td>\n",
       "      <td>4499</td>\n",
       "    </tr>\n",
       "    <tr>\n",
       "      <th>24058262</th>\n",
       "      <td>1704416</td>\n",
       "      <td>3.0</td>\n",
       "      <td>4499</td>\n",
       "    </tr>\n",
       "  </tbody>\n",
       "</table>\n",
       "<p>24053764 rows × 3 columns</p>\n",
       "</div>"
      ],
      "text/plain": [
       "          Cust_ID  Ratings  movie_ID\n",
       "1         1488844      3.0         1\n",
       "2          822109      5.0         1\n",
       "3          885013      4.0         1\n",
       "4           30878      4.0         1\n",
       "5          823519      3.0         1\n",
       "...           ...      ...       ...\n",
       "24058258  2591364      2.0      4499\n",
       "24058259  1791000      2.0      4499\n",
       "24058260   512536      5.0      4499\n",
       "24058261   988963      3.0      4499\n",
       "24058262  1704416      3.0      4499\n",
       "\n",
       "[24053764 rows x 3 columns]"
      ]
     },
     "execution_count": 209,
     "metadata": {},
     "output_type": "execute_result"
    }
   ],
   "source": [
    "netflix_data"
   ]
  },
  {
   "cell_type": "markdown",
   "id": "6f0b8e3c-9676-49fc-9efb-f88c4412fac7",
   "metadata": {},
   "source": [
    "**Note :-** **No Output**"
   ]
  },
  {
   "cell_type": "markdown",
   "id": "8e181f84-4c42-40cf-8980-02889c9ef600",
   "metadata": {},
   "source": [
    "# Model Building"
   ]
  },
  {
   "cell_type": "code",
   "execution_count": 212,
   "id": "23f38a16-b656-4892-b99c-f05dd5e2dceb",
   "metadata": {},
   "outputs": [],
   "source": [
    "# Importing movie title dataset\n",
    "df_title= pd.read_csv('movie_titles.csv', encoding= 'ISO-8859-1', header=None, names=['movie_ID', 'year', 'names'], usecols=[0,1,2])"
   ]
  },
  {
   "cell_type": "code",
   "execution_count": 213,
   "id": "a6c03479-1852-4b7b-af27-4bbf80774f7a",
   "metadata": {},
   "outputs": [
    {
     "data": {
      "text/html": [
       "<div>\n",
       "<style scoped>\n",
       "    .dataframe tbody tr th:only-of-type {\n",
       "        vertical-align: middle;\n",
       "    }\n",
       "\n",
       "    .dataframe tbody tr th {\n",
       "        vertical-align: top;\n",
       "    }\n",
       "\n",
       "    .dataframe thead th {\n",
       "        text-align: right;\n",
       "    }\n",
       "</style>\n",
       "<table border=\"1\" class=\"dataframe\">\n",
       "  <thead>\n",
       "    <tr style=\"text-align: right;\">\n",
       "      <th></th>\n",
       "      <th>movie_ID</th>\n",
       "      <th>year</th>\n",
       "      <th>names</th>\n",
       "    </tr>\n",
       "  </thead>\n",
       "  <tbody>\n",
       "    <tr>\n",
       "      <th>0</th>\n",
       "      <td>1</td>\n",
       "      <td>2003.0</td>\n",
       "      <td>Dinosaur Planet</td>\n",
       "    </tr>\n",
       "    <tr>\n",
       "      <th>1</th>\n",
       "      <td>2</td>\n",
       "      <td>2004.0</td>\n",
       "      <td>Isle of Man TT 2004 Review</td>\n",
       "    </tr>\n",
       "    <tr>\n",
       "      <th>2</th>\n",
       "      <td>3</td>\n",
       "      <td>1997.0</td>\n",
       "      <td>Character</td>\n",
       "    </tr>\n",
       "    <tr>\n",
       "      <th>3</th>\n",
       "      <td>4</td>\n",
       "      <td>1994.0</td>\n",
       "      <td>Paula Abdul's Get Up &amp; Dance</td>\n",
       "    </tr>\n",
       "    <tr>\n",
       "      <th>4</th>\n",
       "      <td>5</td>\n",
       "      <td>2004.0</td>\n",
       "      <td>The Rise and Fall of ECW</td>\n",
       "    </tr>\n",
       "    <tr>\n",
       "      <th>...</th>\n",
       "      <td>...</td>\n",
       "      <td>...</td>\n",
       "      <td>...</td>\n",
       "    </tr>\n",
       "    <tr>\n",
       "      <th>17765</th>\n",
       "      <td>17766</td>\n",
       "      <td>2002.0</td>\n",
       "      <td>Where the Wild Things Are and Other Maurice Se...</td>\n",
       "    </tr>\n",
       "    <tr>\n",
       "      <th>17766</th>\n",
       "      <td>17767</td>\n",
       "      <td>2004.0</td>\n",
       "      <td>Fidel Castro: American Experience</td>\n",
       "    </tr>\n",
       "    <tr>\n",
       "      <th>17767</th>\n",
       "      <td>17768</td>\n",
       "      <td>2000.0</td>\n",
       "      <td>Epoch</td>\n",
       "    </tr>\n",
       "    <tr>\n",
       "      <th>17768</th>\n",
       "      <td>17769</td>\n",
       "      <td>2003.0</td>\n",
       "      <td>The Company</td>\n",
       "    </tr>\n",
       "    <tr>\n",
       "      <th>17769</th>\n",
       "      <td>17770</td>\n",
       "      <td>2003.0</td>\n",
       "      <td>Alien Hunter</td>\n",
       "    </tr>\n",
       "  </tbody>\n",
       "</table>\n",
       "<p>17770 rows × 3 columns</p>\n",
       "</div>"
      ],
      "text/plain": [
       "       movie_ID    year                                              names\n",
       "0             1  2003.0                                    Dinosaur Planet\n",
       "1             2  2004.0                         Isle of Man TT 2004 Review\n",
       "2             3  1997.0                                          Character\n",
       "3             4  1994.0                       Paula Abdul's Get Up & Dance\n",
       "4             5  2004.0                           The Rise and Fall of ECW\n",
       "...         ...     ...                                                ...\n",
       "17765     17766  2002.0  Where the Wild Things Are and Other Maurice Se...\n",
       "17766     17767  2004.0                  Fidel Castro: American Experience\n",
       "17767     17768  2000.0                                              Epoch\n",
       "17768     17769  2003.0                                        The Company\n",
       "17769     17770  2003.0                                       Alien Hunter\n",
       "\n",
       "[17770 rows x 3 columns]"
      ]
     },
     "execution_count": 213,
     "metadata": {},
     "output_type": "execute_result"
    }
   ],
   "source": [
    "# Reading movie title dataset\n",
    "df_title"
   ]
  },
  {
   "cell_type": "code",
   "execution_count": 214,
   "id": "98f4f435-f8c5-4563-a992-57348bb3c2e9",
   "metadata": {},
   "outputs": [
    {
     "data": {
      "text/plain": [
       "movie_ID      int64\n",
       "year        float64\n",
       "names        object\n",
       "dtype: object"
      ]
     },
     "execution_count": 214,
     "metadata": {},
     "output_type": "execute_result"
    }
   ],
   "source": [
    "#Checking dtype of movie title dataset\n",
    "df_title.dtypes"
   ]
  },
  {
   "cell_type": "markdown",
   "id": "257f07c2-dcae-460c-87ad-6804354d3cdb",
   "metadata": {},
   "source": [
    "## Using `Surprise package` for model building"
   ]
  },
  {
   "cell_type": "code",
   "execution_count": 216,
   "id": "ca4d3b6c-e024-4d5b-91a3-5aeda540c166",
   "metadata": {},
   "outputs": [
    {
     "name": "stdout",
     "output_type": "stream",
     "text": [
      "Requirement already satisfied: scikit-surprise in c:\\users\\mtath\\anaconda3\\lib\\site-packages (1.1.4)\n",
      "Requirement already satisfied: joblib>=1.2.0 in c:\\users\\mtath\\anaconda3\\lib\\site-packages (from scikit-surprise) (1.4.2)\n",
      "Requirement already satisfied: numpy>=1.19.5 in c:\\users\\mtath\\anaconda3\\lib\\site-packages (from scikit-surprise) (1.26.4)\n",
      "Requirement already satisfied: scipy>=1.6.0 in c:\\users\\mtath\\anaconda3\\lib\\site-packages (from scikit-surprise) (1.13.1)\n"
     ]
    }
   ],
   "source": [
    "#installing surprise package\n",
    "! pip install scikit-surprise"
   ]
  },
  {
   "cell_type": "code",
   "execution_count": 217,
   "id": "2cb47353-d262-4754-83af-1f3bc76f745c",
   "metadata": {},
   "outputs": [],
   "source": [
    "# importing surprise package\n",
    "from surprise import Reader, Dataset, SVD\n",
    "from surprise.model_selection import cross_validate"
   ]
  },
  {
   "cell_type": "markdown",
   "id": "0220cdc1-a9f0-4a1f-bbb1-02e2603eb47e",
   "metadata": {},
   "source": [
    "`SVD (Singular value Decomposition)` is used for recommendation engine etc\r\n",
    "\r\n",
    "*The surprise library in Python is used for building and analyzing recommender systems. It provides tools to work with collaborative\r\n",
    " filtering algorithms,\r\n",
    "which are commonly used to recommend items (such as movies, books, or products) to users based on their past interactions or preferences.*"
   ]
  },
  {
   "cell_type": "code",
   "execution_count": 219,
   "id": "11e1283a-9538-455b-b10b-de4555ccf81c",
   "metadata": {},
   "outputs": [],
   "source": [
    "# making instance of reader\n",
    "reader= Reader()"
   ]
  },
  {
   "cell_type": "code",
   "execution_count": 220,
   "id": "3a9f4dd7-cb4f-4f41-8673-a652bbc23528",
   "metadata": {},
   "outputs": [],
   "source": [
    "# converting top 100k rows of netflix_data into SVD readable format\n",
    "data= Dataset.load_from_df(netflix_data[['Cust_ID', 'movie_ID', 'Ratings']][:100000], reader)"
   ]
  },
  {
   "cell_type": "code",
   "execution_count": 221,
   "id": "5eb2b495-8cff-46ed-96bf-d5f3e0786c73",
   "metadata": {},
   "outputs": [
    {
     "data": {
      "text/plain": [
       "<surprise.dataset.DatasetAutoFolds at 0x25631b8a690>"
      ]
     },
     "execution_count": 221,
     "metadata": {},
     "output_type": "execute_result"
    }
   ],
   "source": [
    "# trying to access the data directly\n",
    "data"
   ]
  },
  {
   "cell_type": "markdown",
   "id": "51408164-a10c-449d-a486-56239569fbe5",
   "metadata": {},
   "source": [
    "In the above code, we are using `load_drom_df` method from the `Dataset` module which will load these data using the reader object in `SVD readable format`. We cannot access this data directly. This data is only readable by `SVD`."
   ]
  },
  {
   "cell_type": "code",
   "execution_count": 223,
   "id": "585fbdf9-7e30-4f22-873e-fab774130223",
   "metadata": {},
   "outputs": [],
   "source": [
    "# making instance of SVD class\n",
    "model= SVD()"
   ]
  },
  {
   "cell_type": "code",
   "execution_count": 224,
   "id": "b4d294f6-65a5-4f1c-803f-d1461105c6ca",
   "metadata": {},
   "outputs": [
    {
     "data": {
      "text/plain": [
       "{'test_rmse': array([1.05041348, 1.0520367 , 1.05651731, 1.05711496, 1.04421618]),\n",
       " 'fit_time': (2.2140631675720215,\n",
       "  1.133246898651123,\n",
       "  1.2220573425292969,\n",
       "  1.3380494117736816,\n",
       "  1.4674568176269531),\n",
       " 'test_time': (0.38111042976379395,\n",
       "  0.08752632141113281,\n",
       "  0.12255072593688965,\n",
       "  0.10651707649230957,\n",
       "  0.43009066581726074)}"
      ]
     },
     "execution_count": 224,
     "metadata": {},
     "output_type": "execute_result"
    }
   ],
   "source": [
    "# cross validation of the model\n",
    "cross_validate(model, data, measures=['RMSE'], cv=5)"
   ]
  },
  {
   "cell_type": "markdown",
   "id": "0c21f34b-f0c3-4e8d-bcdd-d39314ebb74a",
   "metadata": {},
   "source": [
    "This above line of code is using the cross_validate function from the sklearn.model_selection module to evaluate the performance of a machine learning model on a dataset.\r\n",
    "\r\n",
    "model -> The machine learning model to be evaluated.\r\n",
    "data -> The dataset to be used for evaluation.\r\n",
    "measures -> specifies the performance metrics to be used for evaluation.\r\n",
    "cv=5 -> specifies the data will be divided into 5 subparts and the model will be trained and evaluated in each part.\r\n"
   ]
  },
  {
   "cell_type": "markdown",
   "id": "d7fc2dd7-952a-4523-bc9c-45a3e32f0fb0",
   "metadata": {},
   "source": [
    "### Recommendation"
   ]
  },
  {
   "cell_type": "code",
   "execution_count": 227,
   "id": "33b81cc2-458d-4ffd-a701-e9de34f2e548",
   "metadata": {},
   "outputs": [
    {
     "data": {
      "text/html": [
       "<div>\n",
       "<style scoped>\n",
       "    .dataframe tbody tr th:only-of-type {\n",
       "        vertical-align: middle;\n",
       "    }\n",
       "\n",
       "    .dataframe tbody tr th {\n",
       "        vertical-align: top;\n",
       "    }\n",
       "\n",
       "    .dataframe thead th {\n",
       "        text-align: right;\n",
       "    }\n",
       "</style>\n",
       "<table border=\"1\" class=\"dataframe\">\n",
       "  <thead>\n",
       "    <tr style=\"text-align: right;\">\n",
       "      <th></th>\n",
       "      <th>Cust_ID</th>\n",
       "      <th>Ratings</th>\n",
       "      <th>movie_ID</th>\n",
       "    </tr>\n",
       "  </thead>\n",
       "  <tbody>\n",
       "    <tr>\n",
       "      <th>1</th>\n",
       "      <td>1488844</td>\n",
       "      <td>3.0</td>\n",
       "      <td>1</td>\n",
       "    </tr>\n",
       "    <tr>\n",
       "      <th>2</th>\n",
       "      <td>822109</td>\n",
       "      <td>5.0</td>\n",
       "      <td>1</td>\n",
       "    </tr>\n",
       "    <tr>\n",
       "      <th>3</th>\n",
       "      <td>885013</td>\n",
       "      <td>4.0</td>\n",
       "      <td>1</td>\n",
       "    </tr>\n",
       "    <tr>\n",
       "      <th>4</th>\n",
       "      <td>30878</td>\n",
       "      <td>4.0</td>\n",
       "      <td>1</td>\n",
       "    </tr>\n",
       "    <tr>\n",
       "      <th>5</th>\n",
       "      <td>823519</td>\n",
       "      <td>3.0</td>\n",
       "      <td>1</td>\n",
       "    </tr>\n",
       "    <tr>\n",
       "      <th>...</th>\n",
       "      <td>...</td>\n",
       "      <td>...</td>\n",
       "      <td>...</td>\n",
       "    </tr>\n",
       "    <tr>\n",
       "      <th>24058258</th>\n",
       "      <td>2591364</td>\n",
       "      <td>2.0</td>\n",
       "      <td>4499</td>\n",
       "    </tr>\n",
       "    <tr>\n",
       "      <th>24058259</th>\n",
       "      <td>1791000</td>\n",
       "      <td>2.0</td>\n",
       "      <td>4499</td>\n",
       "    </tr>\n",
       "    <tr>\n",
       "      <th>24058260</th>\n",
       "      <td>512536</td>\n",
       "      <td>5.0</td>\n",
       "      <td>4499</td>\n",
       "    </tr>\n",
       "    <tr>\n",
       "      <th>24058261</th>\n",
       "      <td>988963</td>\n",
       "      <td>3.0</td>\n",
       "      <td>4499</td>\n",
       "    </tr>\n",
       "    <tr>\n",
       "      <th>24058262</th>\n",
       "      <td>1704416</td>\n",
       "      <td>3.0</td>\n",
       "      <td>4499</td>\n",
       "    </tr>\n",
       "  </tbody>\n",
       "</table>\n",
       "<p>24053764 rows × 3 columns</p>\n",
       "</div>"
      ],
      "text/plain": [
       "          Cust_ID  Ratings  movie_ID\n",
       "1         1488844      3.0         1\n",
       "2          822109      5.0         1\n",
       "3          885013      4.0         1\n",
       "4           30878      4.0         1\n",
       "5          823519      3.0         1\n",
       "...           ...      ...       ...\n",
       "24058258  2591364      2.0      4499\n",
       "24058259  1791000      2.0      4499\n",
       "24058260   512536      5.0      4499\n",
       "24058261   988963      3.0      4499\n",
       "24058262  1704416      3.0      4499\n",
       "\n",
       "[24053764 rows x 3 columns]"
      ]
     },
     "execution_count": 227,
     "metadata": {},
     "output_type": "execute_result"
    }
   ],
   "source": [
    "netflix_data"
   ]
  },
  {
   "cell_type": "code",
   "execution_count": 228,
   "id": "f5ec7077-2832-4693-8fef-019033752650",
   "metadata": {},
   "outputs": [
    {
     "data": {
      "text/html": [
       "<div>\n",
       "<style scoped>\n",
       "    .dataframe tbody tr th:only-of-type {\n",
       "        vertical-align: middle;\n",
       "    }\n",
       "\n",
       "    .dataframe tbody tr th {\n",
       "        vertical-align: top;\n",
       "    }\n",
       "\n",
       "    .dataframe thead th {\n",
       "        text-align: right;\n",
       "    }\n",
       "</style>\n",
       "<table border=\"1\" class=\"dataframe\">\n",
       "  <thead>\n",
       "    <tr style=\"text-align: right;\">\n",
       "      <th></th>\n",
       "      <th>movie_ID</th>\n",
       "      <th>year</th>\n",
       "      <th>names</th>\n",
       "    </tr>\n",
       "  </thead>\n",
       "  <tbody>\n",
       "    <tr>\n",
       "      <th>0</th>\n",
       "      <td>1</td>\n",
       "      <td>2003.0</td>\n",
       "      <td>Dinosaur Planet</td>\n",
       "    </tr>\n",
       "    <tr>\n",
       "      <th>1</th>\n",
       "      <td>2</td>\n",
       "      <td>2004.0</td>\n",
       "      <td>Isle of Man TT 2004 Review</td>\n",
       "    </tr>\n",
       "    <tr>\n",
       "      <th>2</th>\n",
       "      <td>3</td>\n",
       "      <td>1997.0</td>\n",
       "      <td>Character</td>\n",
       "    </tr>\n",
       "    <tr>\n",
       "      <th>3</th>\n",
       "      <td>4</td>\n",
       "      <td>1994.0</td>\n",
       "      <td>Paula Abdul's Get Up &amp; Dance</td>\n",
       "    </tr>\n",
       "    <tr>\n",
       "      <th>4</th>\n",
       "      <td>5</td>\n",
       "      <td>2004.0</td>\n",
       "      <td>The Rise and Fall of ECW</td>\n",
       "    </tr>\n",
       "    <tr>\n",
       "      <th>...</th>\n",
       "      <td>...</td>\n",
       "      <td>...</td>\n",
       "      <td>...</td>\n",
       "    </tr>\n",
       "    <tr>\n",
       "      <th>17765</th>\n",
       "      <td>17766</td>\n",
       "      <td>2002.0</td>\n",
       "      <td>Where the Wild Things Are and Other Maurice Se...</td>\n",
       "    </tr>\n",
       "    <tr>\n",
       "      <th>17766</th>\n",
       "      <td>17767</td>\n",
       "      <td>2004.0</td>\n",
       "      <td>Fidel Castro: American Experience</td>\n",
       "    </tr>\n",
       "    <tr>\n",
       "      <th>17767</th>\n",
       "      <td>17768</td>\n",
       "      <td>2000.0</td>\n",
       "      <td>Epoch</td>\n",
       "    </tr>\n",
       "    <tr>\n",
       "      <th>17768</th>\n",
       "      <td>17769</td>\n",
       "      <td>2003.0</td>\n",
       "      <td>The Company</td>\n",
       "    </tr>\n",
       "    <tr>\n",
       "      <th>17769</th>\n",
       "      <td>17770</td>\n",
       "      <td>2003.0</td>\n",
       "      <td>Alien Hunter</td>\n",
       "    </tr>\n",
       "  </tbody>\n",
       "</table>\n",
       "<p>17770 rows × 3 columns</p>\n",
       "</div>"
      ],
      "text/plain": [
       "       movie_ID    year                                              names\n",
       "0             1  2003.0                                    Dinosaur Planet\n",
       "1             2  2004.0                         Isle of Man TT 2004 Review\n",
       "2             3  1997.0                                          Character\n",
       "3             4  1994.0                       Paula Abdul's Get Up & Dance\n",
       "4             5  2004.0                           The Rise and Fall of ECW\n",
       "...         ...     ...                                                ...\n",
       "17765     17766  2002.0  Where the Wild Things Are and Other Maurice Se...\n",
       "17766     17767  2004.0                  Fidel Castro: American Experience\n",
       "17767     17768  2000.0                                              Epoch\n",
       "17768     17769  2003.0                                        The Company\n",
       "17769     17770  2003.0                                       Alien Hunter\n",
       "\n",
       "[17770 rows x 3 columns]"
      ]
     },
     "execution_count": 228,
     "metadata": {},
     "output_type": "execute_result"
    }
   ],
   "source": [
    "df_title"
   ]
  },
  {
   "cell_type": "code",
   "execution_count": 229,
   "id": "0db2533d-ad88-4fec-bcef-80116084a194",
   "metadata": {},
   "outputs": [],
   "source": [
    "user_885013= df_title.copy(deep=True)"
   ]
  },
  {
   "cell_type": "code",
   "execution_count": 230,
   "id": "334debbd-fd46-4ece-b11b-405863a20ce5",
   "metadata": {},
   "outputs": [
    {
     "data": {
      "text/html": [
       "<div>\n",
       "<style scoped>\n",
       "    .dataframe tbody tr th:only-of-type {\n",
       "        vertical-align: middle;\n",
       "    }\n",
       "\n",
       "    .dataframe tbody tr th {\n",
       "        vertical-align: top;\n",
       "    }\n",
       "\n",
       "    .dataframe thead th {\n",
       "        text-align: right;\n",
       "    }\n",
       "</style>\n",
       "<table border=\"1\" class=\"dataframe\">\n",
       "  <thead>\n",
       "    <tr style=\"text-align: right;\">\n",
       "      <th></th>\n",
       "      <th>movie_ID</th>\n",
       "      <th>year</th>\n",
       "      <th>names</th>\n",
       "    </tr>\n",
       "  </thead>\n",
       "  <tbody>\n",
       "    <tr>\n",
       "      <th>0</th>\n",
       "      <td>1</td>\n",
       "      <td>2003.0</td>\n",
       "      <td>Dinosaur Planet</td>\n",
       "    </tr>\n",
       "    <tr>\n",
       "      <th>1</th>\n",
       "      <td>2</td>\n",
       "      <td>2004.0</td>\n",
       "      <td>Isle of Man TT 2004 Review</td>\n",
       "    </tr>\n",
       "    <tr>\n",
       "      <th>2</th>\n",
       "      <td>3</td>\n",
       "      <td>1997.0</td>\n",
       "      <td>Character</td>\n",
       "    </tr>\n",
       "    <tr>\n",
       "      <th>3</th>\n",
       "      <td>4</td>\n",
       "      <td>1994.0</td>\n",
       "      <td>Paula Abdul's Get Up &amp; Dance</td>\n",
       "    </tr>\n",
       "    <tr>\n",
       "      <th>4</th>\n",
       "      <td>5</td>\n",
       "      <td>2004.0</td>\n",
       "      <td>The Rise and Fall of ECW</td>\n",
       "    </tr>\n",
       "    <tr>\n",
       "      <th>...</th>\n",
       "      <td>...</td>\n",
       "      <td>...</td>\n",
       "      <td>...</td>\n",
       "    </tr>\n",
       "    <tr>\n",
       "      <th>17765</th>\n",
       "      <td>17766</td>\n",
       "      <td>2002.0</td>\n",
       "      <td>Where the Wild Things Are and Other Maurice Se...</td>\n",
       "    </tr>\n",
       "    <tr>\n",
       "      <th>17766</th>\n",
       "      <td>17767</td>\n",
       "      <td>2004.0</td>\n",
       "      <td>Fidel Castro: American Experience</td>\n",
       "    </tr>\n",
       "    <tr>\n",
       "      <th>17767</th>\n",
       "      <td>17768</td>\n",
       "      <td>2000.0</td>\n",
       "      <td>Epoch</td>\n",
       "    </tr>\n",
       "    <tr>\n",
       "      <th>17768</th>\n",
       "      <td>17769</td>\n",
       "      <td>2003.0</td>\n",
       "      <td>The Company</td>\n",
       "    </tr>\n",
       "    <tr>\n",
       "      <th>17769</th>\n",
       "      <td>17770</td>\n",
       "      <td>2003.0</td>\n",
       "      <td>Alien Hunter</td>\n",
       "    </tr>\n",
       "  </tbody>\n",
       "</table>\n",
       "<p>17770 rows × 3 columns</p>\n",
       "</div>"
      ],
      "text/plain": [
       "       movie_ID    year                                              names\n",
       "0             1  2003.0                                    Dinosaur Planet\n",
       "1             2  2004.0                         Isle of Man TT 2004 Review\n",
       "2             3  1997.0                                          Character\n",
       "3             4  1994.0                       Paula Abdul's Get Up & Dance\n",
       "4             5  2004.0                           The Rise and Fall of ECW\n",
       "...         ...     ...                                                ...\n",
       "17765     17766  2002.0  Where the Wild Things Are and Other Maurice Se...\n",
       "17766     17767  2004.0                  Fidel Castro: American Experience\n",
       "17767     17768  2000.0                                              Epoch\n",
       "17768     17769  2003.0                                        The Company\n",
       "17769     17770  2003.0                                       Alien Hunter\n",
       "\n",
       "[17770 rows x 3 columns]"
      ]
     },
     "execution_count": 230,
     "metadata": {},
     "output_type": "execute_result"
    }
   ],
   "source": [
    "user_885013"
   ]
  },
  {
   "cell_type": "markdown",
   "id": "b79035af-e1f0-4a6d-a14c-6b6755e1d3c7",
   "metadata": {},
   "source": [
    "**Note :-** *These dataset also contains movies less than 908, the benchmark value which has to be dropped*"
   ]
  },
  {
   "cell_type": "code",
   "execution_count": 232,
   "id": "158b70ae-b970-4f9f-9c33-a45253943f6b",
   "metadata": {},
   "outputs": [],
   "source": [
    "#Removies all the movies that are less than the 908 reviews\n",
    "user_885013= user_885013[~user_885013['movie_ID'].isin(drop_movie_list)]"
   ]
  },
  {
   "cell_type": "code",
   "execution_count": 233,
   "id": "891f72e5-b65a-4ca8-b4cc-fc99d68f2e0f",
   "metadata": {},
   "outputs": [
    {
     "data": {
      "text/html": [
       "<div>\n",
       "<style scoped>\n",
       "    .dataframe tbody tr th:only-of-type {\n",
       "        vertical-align: middle;\n",
       "    }\n",
       "\n",
       "    .dataframe tbody tr th {\n",
       "        vertical-align: top;\n",
       "    }\n",
       "\n",
       "    .dataframe thead th {\n",
       "        text-align: right;\n",
       "    }\n",
       "</style>\n",
       "<table border=\"1\" class=\"dataframe\">\n",
       "  <thead>\n",
       "    <tr style=\"text-align: right;\">\n",
       "      <th></th>\n",
       "      <th>movie_ID</th>\n",
       "      <th>year</th>\n",
       "      <th>names</th>\n",
       "    </tr>\n",
       "  </thead>\n",
       "  <tbody>\n",
       "    <tr>\n",
       "      <th>0</th>\n",
       "      <td>1</td>\n",
       "      <td>2003.0</td>\n",
       "      <td>Dinosaur Planet</td>\n",
       "    </tr>\n",
       "    <tr>\n",
       "      <th>1</th>\n",
       "      <td>2</td>\n",
       "      <td>2004.0</td>\n",
       "      <td>Isle of Man TT 2004 Review</td>\n",
       "    </tr>\n",
       "    <tr>\n",
       "      <th>2</th>\n",
       "      <td>3</td>\n",
       "      <td>1997.0</td>\n",
       "      <td>Character</td>\n",
       "    </tr>\n",
       "    <tr>\n",
       "      <th>3</th>\n",
       "      <td>4</td>\n",
       "      <td>1994.0</td>\n",
       "      <td>Paula Abdul's Get Up &amp; Dance</td>\n",
       "    </tr>\n",
       "    <tr>\n",
       "      <th>4</th>\n",
       "      <td>5</td>\n",
       "      <td>2004.0</td>\n",
       "      <td>The Rise and Fall of ECW</td>\n",
       "    </tr>\n",
       "    <tr>\n",
       "      <th>...</th>\n",
       "      <td>...</td>\n",
       "      <td>...</td>\n",
       "      <td>...</td>\n",
       "    </tr>\n",
       "    <tr>\n",
       "      <th>17765</th>\n",
       "      <td>17766</td>\n",
       "      <td>2002.0</td>\n",
       "      <td>Where the Wild Things Are and Other Maurice Se...</td>\n",
       "    </tr>\n",
       "    <tr>\n",
       "      <th>17766</th>\n",
       "      <td>17767</td>\n",
       "      <td>2004.0</td>\n",
       "      <td>Fidel Castro: American Experience</td>\n",
       "    </tr>\n",
       "    <tr>\n",
       "      <th>17767</th>\n",
       "      <td>17768</td>\n",
       "      <td>2000.0</td>\n",
       "      <td>Epoch</td>\n",
       "    </tr>\n",
       "    <tr>\n",
       "      <th>17768</th>\n",
       "      <td>17769</td>\n",
       "      <td>2003.0</td>\n",
       "      <td>The Company</td>\n",
       "    </tr>\n",
       "    <tr>\n",
       "      <th>17769</th>\n",
       "      <td>17770</td>\n",
       "      <td>2003.0</td>\n",
       "      <td>Alien Hunter</td>\n",
       "    </tr>\n",
       "  </tbody>\n",
       "</table>\n",
       "<p>17770 rows × 3 columns</p>\n",
       "</div>"
      ],
      "text/plain": [
       "       movie_ID    year                                              names\n",
       "0             1  2003.0                                    Dinosaur Planet\n",
       "1             2  2004.0                         Isle of Man TT 2004 Review\n",
       "2             3  1997.0                                          Character\n",
       "3             4  1994.0                       Paula Abdul's Get Up & Dance\n",
       "4             5  2004.0                           The Rise and Fall of ECW\n",
       "...         ...     ...                                                ...\n",
       "17765     17766  2002.0  Where the Wild Things Are and Other Maurice Se...\n",
       "17766     17767  2004.0                  Fidel Castro: American Experience\n",
       "17767     17768  2000.0                                              Epoch\n",
       "17768     17769  2003.0                                        The Company\n",
       "17769     17770  2003.0                                       Alien Hunter\n",
       "\n",
       "[17770 rows x 3 columns]"
      ]
     },
     "execution_count": 233,
     "metadata": {},
     "output_type": "execute_result"
    }
   ],
   "source": [
    "user_885013"
   ]
  },
  {
   "cell_type": "code",
   "execution_count": 313,
   "id": "eca49f99-c74d-4509-aeac-801d6022e517",
   "metadata": {},
   "outputs": [],
   "source": [
    "# based on estimation scored after predicitng the model data, the estimation score will be in the range of 1-5\n",
    "# if the score is more than 3.5 we can recomend those movies to user\n",
    "# SVD as it is a recomendation engione, the output of the model ie, predicted data is the estaimation score on which it wil decided the movied\n",
    "# to be recomended or Not\n",
    "\n",
    "# here in this code we are creating a new coulmns infront of each movie name on which we decide to recomend a movie\n",
    "\n",
    "#Note: this is only for one user 1331154\n",
    "user_885013['Estimated_score']= user_885013['movie_ID'].apply(lambda x: model.predict(885013,x).est)"
   ]
  },
  {
   "cell_type": "code",
   "execution_count": 314,
   "id": "ef303a9e-009b-48f8-8813-ab5679e72a5d",
   "metadata": {},
   "outputs": [
    {
     "data": {
      "text/html": [
       "<div>\n",
       "<style scoped>\n",
       "    .dataframe tbody tr th:only-of-type {\n",
       "        vertical-align: middle;\n",
       "    }\n",
       "\n",
       "    .dataframe tbody tr th {\n",
       "        vertical-align: top;\n",
       "    }\n",
       "\n",
       "    .dataframe thead th {\n",
       "        text-align: right;\n",
       "    }\n",
       "</style>\n",
       "<table border=\"1\" class=\"dataframe\">\n",
       "  <thead>\n",
       "    <tr style=\"text-align: right;\">\n",
       "      <th></th>\n",
       "      <th>movie_ID</th>\n",
       "      <th>year</th>\n",
       "      <th>names</th>\n",
       "      <th>Estimated_score</th>\n",
       "    </tr>\n",
       "  </thead>\n",
       "  <tbody>\n",
       "    <tr>\n",
       "      <th>0</th>\n",
       "      <td>1</td>\n",
       "      <td>2003.0</td>\n",
       "      <td>Dinosaur Planet</td>\n",
       "      <td>3.858903</td>\n",
       "    </tr>\n",
       "    <tr>\n",
       "      <th>1</th>\n",
       "      <td>2</td>\n",
       "      <td>2004.0</td>\n",
       "      <td>Isle of Man TT 2004 Review</td>\n",
       "      <td>3.640710</td>\n",
       "    </tr>\n",
       "    <tr>\n",
       "      <th>2</th>\n",
       "      <td>3</td>\n",
       "      <td>1997.0</td>\n",
       "      <td>Character</td>\n",
       "      <td>4.089825</td>\n",
       "    </tr>\n",
       "    <tr>\n",
       "      <th>3</th>\n",
       "      <td>4</td>\n",
       "      <td>1994.0</td>\n",
       "      <td>Paula Abdul's Get Up &amp; Dance</td>\n",
       "      <td>3.037665</td>\n",
       "    </tr>\n",
       "    <tr>\n",
       "      <th>4</th>\n",
       "      <td>5</td>\n",
       "      <td>2004.0</td>\n",
       "      <td>The Rise and Fall of ECW</td>\n",
       "      <td>4.807227</td>\n",
       "    </tr>\n",
       "    <tr>\n",
       "      <th>...</th>\n",
       "      <td>...</td>\n",
       "      <td>...</td>\n",
       "      <td>...</td>\n",
       "      <td>...</td>\n",
       "    </tr>\n",
       "    <tr>\n",
       "      <th>17765</th>\n",
       "      <td>17766</td>\n",
       "      <td>2002.0</td>\n",
       "      <td>Where the Wild Things Are and Other Maurice Se...</td>\n",
       "      <td>3.604853</td>\n",
       "    </tr>\n",
       "    <tr>\n",
       "      <th>17766</th>\n",
       "      <td>17767</td>\n",
       "      <td>2004.0</td>\n",
       "      <td>Fidel Castro: American Experience</td>\n",
       "      <td>3.604853</td>\n",
       "    </tr>\n",
       "    <tr>\n",
       "      <th>17767</th>\n",
       "      <td>17768</td>\n",
       "      <td>2000.0</td>\n",
       "      <td>Epoch</td>\n",
       "      <td>3.604853</td>\n",
       "    </tr>\n",
       "    <tr>\n",
       "      <th>17768</th>\n",
       "      <td>17769</td>\n",
       "      <td>2003.0</td>\n",
       "      <td>The Company</td>\n",
       "      <td>3.604853</td>\n",
       "    </tr>\n",
       "    <tr>\n",
       "      <th>17769</th>\n",
       "      <td>17770</td>\n",
       "      <td>2003.0</td>\n",
       "      <td>Alien Hunter</td>\n",
       "      <td>3.604853</td>\n",
       "    </tr>\n",
       "  </tbody>\n",
       "</table>\n",
       "<p>17770 rows × 4 columns</p>\n",
       "</div>"
      ],
      "text/plain": [
       "       movie_ID    year                                              names  \\\n",
       "0             1  2003.0                                    Dinosaur Planet   \n",
       "1             2  2004.0                         Isle of Man TT 2004 Review   \n",
       "2             3  1997.0                                          Character   \n",
       "3             4  1994.0                       Paula Abdul's Get Up & Dance   \n",
       "4             5  2004.0                           The Rise and Fall of ECW   \n",
       "...         ...     ...                                                ...   \n",
       "17765     17766  2002.0  Where the Wild Things Are and Other Maurice Se...   \n",
       "17766     17767  2004.0                  Fidel Castro: American Experience   \n",
       "17767     17768  2000.0                                              Epoch   \n",
       "17768     17769  2003.0                                        The Company   \n",
       "17769     17770  2003.0                                       Alien Hunter   \n",
       "\n",
       "       Estimated_score  \n",
       "0             3.858903  \n",
       "1             3.640710  \n",
       "2             4.089825  \n",
       "3             3.037665  \n",
       "4             4.807227  \n",
       "...                ...  \n",
       "17765         3.604853  \n",
       "17766         3.604853  \n",
       "17767         3.604853  \n",
       "17768         3.604853  \n",
       "17769         3.604853  \n",
       "\n",
       "[17770 rows x 4 columns]"
      ]
     },
     "execution_count": 314,
     "metadata": {},
     "output_type": "execute_result"
    }
   ],
   "source": [
    "user_885013"
   ]
  },
  {
   "cell_type": "code",
   "execution_count": 315,
   "id": "9bac0dfe-c2a6-487a-a28c-1ad914956240",
   "metadata": {},
   "outputs": [
    {
     "data": {
      "text/html": [
       "<div>\n",
       "<style scoped>\n",
       "    .dataframe tbody tr th:only-of-type {\n",
       "        vertical-align: middle;\n",
       "    }\n",
       "\n",
       "    .dataframe tbody tr th {\n",
       "        vertical-align: top;\n",
       "    }\n",
       "\n",
       "    .dataframe thead th {\n",
       "        text-align: right;\n",
       "    }\n",
       "</style>\n",
       "<table border=\"1\" class=\"dataframe\">\n",
       "  <thead>\n",
       "    <tr style=\"text-align: right;\">\n",
       "      <th></th>\n",
       "      <th>movie_ID</th>\n",
       "      <th>year</th>\n",
       "      <th>names</th>\n",
       "      <th>Estimated_score</th>\n",
       "    </tr>\n",
       "  </thead>\n",
       "  <tbody>\n",
       "    <tr>\n",
       "      <th>4</th>\n",
       "      <td>5</td>\n",
       "      <td>2004.0</td>\n",
       "      <td>The Rise and Fall of ECW</td>\n",
       "      <td>4.807227</td>\n",
       "    </tr>\n",
       "    <tr>\n",
       "      <th>12</th>\n",
       "      <td>13</td>\n",
       "      <td>2003.0</td>\n",
       "      <td>Lord of the Rings: The Return of the King: Ext...</td>\n",
       "      <td>4.475403</td>\n",
       "    </tr>\n",
       "    <tr>\n",
       "      <th>24</th>\n",
       "      <td>25</td>\n",
       "      <td>1997.0</td>\n",
       "      <td>Inspector Morse 31: Death Is Now My Neighbour</td>\n",
       "      <td>4.242465</td>\n",
       "    </tr>\n",
       "    <tr>\n",
       "      <th>27</th>\n",
       "      <td>28</td>\n",
       "      <td>2002.0</td>\n",
       "      <td>Lilo and Stitch</td>\n",
       "      <td>4.194491</td>\n",
       "    </tr>\n",
       "    <tr>\n",
       "      <th>2</th>\n",
       "      <td>3</td>\n",
       "      <td>1997.0</td>\n",
       "      <td>Character</td>\n",
       "      <td>4.089825</td>\n",
       "    </tr>\n",
       "  </tbody>\n",
       "</table>\n",
       "</div>"
      ],
      "text/plain": [
       "    movie_ID    year                                              names  \\\n",
       "4          5  2004.0                           The Rise and Fall of ECW   \n",
       "12        13  2003.0  Lord of the Rings: The Return of the King: Ext...   \n",
       "24        25  1997.0      Inspector Morse 31: Death Is Now My Neighbour   \n",
       "27        28  2002.0                                    Lilo and Stitch   \n",
       "2          3  1997.0                                          Character   \n",
       "\n",
       "    Estimated_score  \n",
       "4          4.807227  \n",
       "12         4.475403  \n",
       "24         4.242465  \n",
       "27         4.194491  \n",
       "2          4.089825  "
      ]
     },
     "execution_count": 315,
     "metadata": {},
     "output_type": "execute_result"
    }
   ],
   "source": [
    "user_885013.sort_values(by='Estimated_score', ascending=False).head()"
   ]
  },
  {
   "cell_type": "markdown",
   "id": "5c98d63f-dc22-45af-8bd5-8918d2f7e4d8",
   "metadata": {},
   "source": [
    "**Note:-** *These are the top 5 movies that should be recommended to the user*"
   ]
  },
  {
   "cell_type": "code",
   "execution_count": null,
   "id": "346d3700-9ff1-4902-8ea4-426fda87a2ab",
   "metadata": {},
   "outputs": [],
   "source": []
  }
 ],
 "metadata": {
  "kernelspec": {
   "display_name": "Python 3 (ipykernel)",
   "language": "python",
   "name": "python3"
  },
  "language_info": {
   "codemirror_mode": {
    "name": "ipython",
    "version": 3
   },
   "file_extension": ".py",
   "mimetype": "text/x-python",
   "name": "python",
   "nbconvert_exporter": "python",
   "pygments_lexer": "ipython3",
   "version": "3.12.4"
  }
 },
 "nbformat": 4,
 "nbformat_minor": 5
}
